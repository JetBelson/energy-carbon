{
 "cells": [
  {
   "cell_type": "markdown",
   "metadata": {},
   "source": []
  },
  {
   "cell_type": "code",
   "execution_count": 2,
   "metadata": {},
   "outputs": [],
   "source": [
    "import pandas as pd\n",
    "import numpy as np\n",
    "import time\n",
    "\n",
    "from sklearn.gaussian_process import GaussianProcessRegressor\n",
    "from sklearn.gaussian_process.kernels import (WhiteKernel, ExpSineSquared, RBF,\n",
    "                                      Exponentiation, Matern, RationalQuadratic)\n",
    "\n",
    "from sklearn.metrics import mean_squared_error, mean_absolute_error\n",
    "\n",
    "import matplotlib.pyplot as plt\n",
    "\n"
   ]
  },
  {
   "cell_type": "code",
   "execution_count": 14,
   "metadata": {},
   "outputs": [],
   "source": [
    "\n",
    "\n",
    "## Load data from the csv file for training and validation\n",
    "df = pd.read_csv(\"../data/train-eval.csv\", index_col = 0, header = None,\n",
    "                 names = ['index', 'wall', 'roof', 'glazing','wwr',\n",
    "                          'shading device', 'orientaition', 'energy cost', \n",
    "                          'operational cooling load carbon', \n",
    "                          'envelop embodied carbon', \n",
    "                          'total carbon per meter square'])\n",
    "df['orientaition'].replace('-', 0, inplace = True)\n",
    "df = df.astype(float)\n",
    "wall = {1: 0.2, 2: 0.24, 3: 0.31, 4: 0.33}\n",
    "roof = {1: 0.19, 2: 0.18, 3: 0.20}\n",
    "glazing = {1: 1.65, 2: 2.16, 3: 1.52, 4: 1.16}\n",
    "input012 = {'wall': wall, 'roof': roof, 'glazing': glazing}\n",
    "\n",
    "for key1 in input012:\n",
    "  for key2 in input012[key1]:\n",
    "    df[key1].replace(key2, input012[key1][key2], inplace = True)\n",
    "\n",
    "df['eui'] = ((df['operational cooling load carbon']/(20*0.757)) / \n",
    "  ((df['operational cooling load carbon'] + df['envelop embodied carbon'])\n",
    "  / df['total carbon per meter square']))\n",
    "\n",
    "max_val = df.max()\n",
    "for key, value in zip(max_val.keys(), max_val):\n",
    "  df[key] = df[key].divide(np.float32(value))\n",
    "\n",
    "## Load data from the csv file for test\n",
    "df2 = pd.read_csv(\"../data/test.csv\", index_col = 0, header = None,\n",
    "                 names = ['index', 'wall', 'roof', 'glazing','wwr',\n",
    "                          'shading device', 'orientaition', 'energy cost', \n",
    "                          'operational cooling load carbon', \n",
    "                          'envelop embodied carbon', \n",
    "                          'total carbon per meter square'])\n",
    "df2['orientaition'].replace('-', 0, inplace = True)\n",
    "df2 = df2.astype(float)\n",
    "\n",
    "for key1 in input012:\n",
    "  for key2 in input012[key1]:\n",
    "    df2[key1].replace(key2, input012[key1][key2], inplace = True)\n",
    "\n",
    "df2['eui'] = ((df2['operational cooling load carbon']/(20*0.757)) / \n",
    "  ((df2['operational cooling load carbon'] + df2['envelop embodied carbon'])\n",
    "  / df2['total carbon per meter square']))\n",
    "\n",
    "for key, value in zip(max_val.keys(), max_val):\n",
    "  df2[key] = df2[key].divide(np.float32(value))\n",
    "\n",
    "\n",
    "train_size = np.int32(0.8 * df.index.size)\n",
    "train_x = df.values[0:train_size,0:6]\n",
    "train_y = df.values[0:train_size,-2:]\n",
    "\n",
    "val_x = df.values[train_size:,0:6]\n",
    "val_y = df.values[train_size:,-2:]\n",
    "\n",
    "test_x = df2.values[:,0:6]\n",
    "test_y = df2.values[:,-2:]"
   ]
  },
  {
   "cell_type": "code",
   "execution_count": 68,
   "metadata": {},
   "outputs": [
    {
     "name": "stdout",
     "output_type": "stream",
     "text": [
      "Time for GaussianProcessRegressor fitting: 1.774 seconds\n",
      "train VS val (mean_squared_error):  7.922793429859578e-05     0.00018020546546139676\n",
      "train VS val (mean_absolute_error):  0.006604233512289545     0.010803192669187563\n"
     ]
    }
   ],
   "source": [
    "## kernel 1\n",
    "\n",
    "kernel = (1.0 * ExpSineSquared(1.0, 3.0, periodicity_bounds=(1e-2, 1e3)) + \n",
    "         WhiteKernel(1e-3))\n",
    "gaussian_process = GaussianProcessRegressor(kernel = kernel, \n",
    "                                            optimizer = 'fmin_l_bfgs_b',\n",
    "                                            n_restarts_optimizer = 20)\n",
    "start_time = time.time()\n",
    "gaussian_process.fit(train_x, train_y)\n",
    "print(\n",
    "    f\"Time for GaussianProcessRegressor fitting: {time.time() - start_time:.3f} seconds\"\n",
    ")\n",
    "\n",
    "pred_train_y = gaussian_process.predict(train_x)\n",
    "pred_val_y = gaussian_process.predict(val_x)\n",
    "# pred_test_y = gaussian_process.predict(test_x)\n",
    "\n",
    "\n",
    "# training metric\n",
    "train_mse = mean_squared_error(train_y, pred_train_y )\n",
    "train_mae = mean_absolute_error(train_y, pred_train_y)\n",
    "\n",
    "# validation metric\n",
    "val_mse = mean_squared_error(val_y, pred_val_y)\n",
    "val_mae = mean_absolute_error(val_y, pred_val_y)\n",
    "\n",
    "print(\"train VS val (mean_squared_error): \", train_mse, \"   \", val_mse)\n",
    "print(\"train VS val (mean_absolute_error): \", train_mae, \"   \", val_mae)\n",
    "\n"
   ]
  },
  {
   "cell_type": "code",
   "execution_count": 73,
   "metadata": {},
   "outputs": [
    {
     "name": "stdout",
     "output_type": "stream",
     "text": [
      "Time for GaussianProcessRegressor fitting: 2.613 seconds\n",
      "train VS val (mean_squared_error):  8.202746283244707e-05     0.00017823328393843667\n",
      "train VS val (mean_absolute_error):  0.006744794930311038     0.010810551005801094\n"
     ]
    }
   ],
   "source": [
    "## kernel 2\n",
    "kernel = (0.5 * RBF(length_scale=1.0, length_scale_bounds=(1e-2, 1e2)) + \n",
    "         WhiteKernel(1e-3))\n",
    "gaussian_process = GaussianProcessRegressor(kernel = kernel, \n",
    "                                            optimizer = 'fmin_l_bfgs_b',\n",
    "                                            n_restarts_optimizer = 20)\n",
    "start_time = time.time()\n",
    "gaussian_process.fit(train_x, train_y)\n",
    "print(\n",
    "    f\"Time for GaussianProcessRegressor fitting: {time.time() - start_time:.3f} seconds\"\n",
    ")\n",
    "\n",
    "pred_train_y = gaussian_process.predict(train_x)\n",
    "pred_val_y = gaussian_process.predict(val_x)\n",
    "# pred_test_y = gaussian_process.predict(test_x)\n",
    "\n",
    "# training metric\n",
    "train_mse = mean_squared_error(train_y, pred_train_y )\n",
    "train_mae = mean_absolute_error(train_y, pred_train_y)\n",
    "\n",
    "# validation metric\n",
    "val_mse = mean_squared_error(val_y, pred_val_y)\n",
    "val_mae = mean_absolute_error(val_y, pred_val_y)\n",
    "\n",
    "print(\"train VS val (mean_squared_error): \", train_mse, \"   \", val_mse)\n",
    "print(\"train VS val (mean_absolute_error): \", train_mae, \"   \", val_mae)\n",
    "\n"
   ]
  },
  {
   "cell_type": "code",
   "execution_count": 70,
   "metadata": {},
   "outputs": [
    {
     "name": "stderr",
     "output_type": "stream",
     "text": [
      "/home/zzj/miniconda3/lib/python3.9/site-packages/sklearn/gaussian_process/_gpr.py:616: ConvergenceWarning: lbfgs failed to converge (status=2):\n",
      "ABNORMAL_TERMINATION_IN_LNSRCH.\n",
      "\n",
      "Increase the number of iterations (max_iter) or scale the data as shown in:\n",
      "    https://scikit-learn.org/stable/modules/preprocessing.html\n",
      "  _check_optimize_result(\"lbfgs\", opt_res)\n"
     ]
    },
    {
     "name": "stdout",
     "output_type": "stream",
     "text": [
      "Time for GaussianProcessRegressor fitting: 4.455 seconds\n",
      "train VS val (mean_squared_error):  7.90276294443399e-05     0.00017858153313414748\n",
      "train VS val (mean_absolute_error):  0.006594383655548097     0.010758972201566103\n"
     ]
    }
   ],
   "source": [
    "## kernel 3\n",
    "kernel = (1 * Exponentiation(RationalQuadratic(), exponent=2) + \n",
    "         WhiteKernel(1e-3))\n",
    "gaussian_process = GaussianProcessRegressor(kernel = kernel, \n",
    "                                            optimizer = 'fmin_l_bfgs_b',\n",
    "                                            n_restarts_optimizer = 20)\n",
    "start_time = time.time()\n",
    "gaussian_process.fit(train_x, train_y)\n",
    "print(\n",
    "    f\"Time for GaussianProcessRegressor fitting: {time.time() - start_time:.3f} seconds\"\n",
    ")\n",
    "\n",
    "pred_train_y = gaussian_process.predict(train_x)\n",
    "pred_val_y = gaussian_process.predict(val_x)\n",
    "# pred_test_y = gaussian_process.predict(test_x)\n",
    "\n",
    "# training metric\n",
    "train_mse = mean_squared_error(train_y, pred_train_y )\n",
    "train_mae = mean_absolute_error(train_y, pred_train_y)\n",
    "\n",
    "# validation metric\n",
    "val_mse = mean_squared_error(val_y, pred_val_y)\n",
    "val_mae = mean_absolute_error(val_y, pred_val_y)\n",
    "\n",
    "print(\"train VS val (mean_squared_error): \", train_mse, \"   \", val_mse)\n",
    "print(\"train VS val (mean_absolute_error): \", train_mae, \"   \", val_mae)\n",
    "\n",
    "\n"
   ]
  },
  {
   "cell_type": "code",
   "execution_count": 72,
   "metadata": {},
   "outputs": [
    {
     "name": "stdout",
     "output_type": "stream",
     "text": [
      "Time for GaussianProcessRegressor fitting: 2.990 seconds\n",
      "train VS val (mean_squared_error):  6.752389045037484e-05     0.0002298713370764852\n",
      "train VS val (mean_absolute_error):  0.006050755778187304     0.011950034342038311\n"
     ]
    }
   ],
   "source": [
    "## kernel 4\n",
    "kernel = (1 * Matern(length_scale=1.0, nu=1.5) + \n",
    "         WhiteKernel(1e-3))\n",
    "gaussian_process = GaussianProcessRegressor(kernel = kernel, \n",
    "                                            optimizer = 'fmin_l_bfgs_b',\n",
    "                                            n_restarts_optimizer = 20)\n",
    "start_time = time.time()\n",
    "gaussian_process.fit(train_x, train_y)\n",
    "print(\n",
    "    f\"Time for GaussianProcessRegressor fitting: {time.time() - start_time:.3f} seconds\"\n",
    ")\n",
    "\n",
    "pred_train_y = gaussian_process.predict(train_x)\n",
    "pred_val_y = gaussian_process.predict(val_x)\n",
    "\n",
    "# training metric\n",
    "train_mse = mean_squared_error(train_y, pred_train_y )\n",
    "train_mae = mean_absolute_error(train_y, pred_train_y)\n",
    "\n",
    "# validation metric\n",
    "val_mse = mean_squared_error(val_y, pred_val_y)\n",
    "val_mae = mean_absolute_error(val_y, pred_val_y)\n",
    "\n",
    "print(\"train VS val (mean_squared_error): \", train_mse, \"   \", val_mse)\n",
    "print(\"train VS val (mean_absolute_error): \", train_mae, \"   \", val_mae)\n",
    "\n",
    "\n"
   ]
  },
  {
   "cell_type": "code",
   "execution_count": 79,
   "metadata": {},
   "outputs": [
    {
     "name": "stdout",
     "output_type": "stream",
     "text": [
      "test mean_squared_error:  164.10760325201628\n",
      "test mean_absolute_error:  7.93701364012003\n",
      "test max_relative_abs_error:  0.03664093332721381\n",
      "test mean_relative_abs_error:  0.012789639533092777\n"
     ]
    },
    {
     "data": {
      "image/png": "[encoded data removed]",
      "text/plain": [
       "<Figure size 432x288 with 1 Axes>"
      ]
     },
     "metadata": {
      "needs_background": "light"
     },
     "output_type": "display_data"
    },
    {
     "data": {
      "image/png": "[encoded data removed]",
      "text/plain": [
       "<Figure size 432x288 with 1 Axes>"
      ]
     },
     "metadata": {
      "needs_background": "light"
     },
     "output_type": "display_data"
    }
   ],
   "source": [
    "## select kernel 2 for test\n",
    "### !!!!!!!!!!!!!!!!!!! run kernel 2 first !!!!!!!!!!!!!!!!!!!!\n",
    "pred_test_y = gaussian_process.predict(test_x)\n",
    "\n",
    "# test metric\n",
    "scale = max_val[-2:].values.reshape(1,2).repeat(test_y.shape[0], axis = 0)\n",
    "test_mse = mean_squared_error(test_y * scale, pred_test_y * scale)\n",
    "test_mae = mean_absolute_error(test_y * scale, pred_test_y * scale)\n",
    "relative_error = (test_y - pred_test_y)/test_y\n",
    "test_max_relative_abs_error = np.max(np.abs(relative_error))\n",
    "test_mean_relative_abs_error = np.mean(np.abs(relative_error))\n",
    "\n",
    "print(\"test mean_squared_error: \", test_mse)\n",
    "print(\"test mean_absolute_error: \", test_mae)\n",
    "print(\"test max_relative_abs_error: \", test_max_relative_abs_error)\n",
    "print(\"test mean_relative_abs_error: \", test_mean_relative_abs_error)\n",
    "\n",
    "\n",
    "# figure, ax = plt.subplot()\n",
    "plt.plot(test_y[:,0] * max_val[-2], pred_test_y[:,0] * max_val[-2], 'k.')\n",
    "plt.plot(np.arange(1000,1600),np.arange(1000,1600), 'b-')\n",
    "plt.show()\n",
    "\n",
    "plt.plot(test_y[:,1] * max_val[-1], pred_test_y[:,1] * max_val[-1], 'k.')\n",
    "plt.plot(np.arange(60,100),np.arange(60,100), 'b-')\n",
    "plt.show()\n"
   ]
  }
 ],
 "metadata": {
  "interpreter": {
   "hash": "cfb918273e0a28fdef77ea9d40b39aab97828a3a3fcca128c3f90b0a2a286a63"
  },
  "kernelspec": {
   "display_name": "Python 3.9.5 ('base')",
   "language": "python",
   "name": "python3"
  },
  "language_info": {
   "codemirror_mode": {
    "name": "ipython",
    "version": 3
   },
   "file_extension": ".py",
   "mimetype": "text/x-python",
   "name": "python",
   "nbconvert_exporter": "python",
   "pygments_lexer": "ipython3",
   "version": "3.9.5"
  },
  "orig_nbformat": 4
 },
 "nbformat": 4,
 "nbformat_minor": 2
}
